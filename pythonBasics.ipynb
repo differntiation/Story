{
  "nbformat": 4,
  "nbformat_minor": 0,
  "metadata": {
    "colab": {
      "provenance": [],
      "authorship_tag": "ABX9TyM6tmkTFxinZnlv+fzcQS7B",
      "include_colab_link": true
    },
    "kernelspec": {
      "name": "python3",
      "display_name": "Python 3"
    },
    "language_info": {
      "name": "python"
    }
  },
  "cells": [
    {
      "cell_type": "markdown",
      "metadata": {
        "id": "view-in-github",
        "colab_type": "text"
      },
      "source": [
        "<a href=\"https://colab.research.google.com/github/differntiation/Story/blob/master/pythonBasics.ipynb\" target=\"_parent\"><img src=\"https://colab.research.google.com/assets/colab-badge.svg\" alt=\"Open In Colab\"/></a>"
      ]
    },
    {
      "cell_type": "markdown",
      "source": [],
      "metadata": {
        "id": "07zv7GZ_43Ku"
      }
    },
    {
      "cell_type": "markdown",
      "source": [
        "Programming language used in ML:\n",
        "\n",
        "\n",
        "1.   python\n",
        "2.   R\n",
        "\n",
        "\n"
      ],
      "metadata": {
        "id": "gVSAnbnQ4rK4"
      }
    },
    {
      "cell_type": "markdown",
      "source": [],
      "metadata": {
        "id": "fWDmqPfB6ByO"
      }
    },
    {
      "cell_type": "markdown",
      "source": [
        "#Print function"
      ],
      "metadata": {
        "id": "9chsq9Gt5Nw9"
      }
    },
    {
      "cell_type": "code",
      "source": [
        "print(\"sumit\")"
      ],
      "metadata": {
        "colab": {
          "base_uri": "https://localhost:8080/"
        },
        "id": "BAkOgRZx5R_Y",
        "outputId": "1c23c201-2ac1-4a83-c796-ef9273bb3b46"
      },
      "execution_count": 1,
      "outputs": [
        {
          "output_type": "stream",
          "name": "stdout",
          "text": [
            "sumit\n"
          ]
        }
      ]
    },
    {
      "cell_type": "markdown",
      "source": [
        "#Basic DataType\n",
        "\n",
        "1.   Integer\n",
        "2.   float\n",
        "3.   string\n",
        "4.   Boolean\n",
        "5.   complex\n",
        "\n",
        "\n"
      ],
      "metadata": {
        "id": "rjyb37it6pKm"
      }
    },
    {
      "cell_type": "code",
      "source": [
        "type(8)"
      ],
      "metadata": {
        "colab": {
          "base_uri": "https://localhost:8080/"
        },
        "id": "u7NTnzLH7BSb",
        "outputId": "a60cad5d-248e-491c-89b5-9113e0ee2eda"
      },
      "execution_count": 5,
      "outputs": [
        {
          "output_type": "execute_result",
          "data": {
            "text/plain": [
              "int"
            ]
          },
          "metadata": {},
          "execution_count": 5
        }
      ]
    },
    {
      "cell_type": "code",
      "source": [
        "type(5.3)"
      ],
      "metadata": {
        "colab": {
          "base_uri": "https://localhost:8080/"
        },
        "id": "VpP5UlTm5-oX",
        "outputId": "f1418e17-9308-4812-d11a-ad7077183b5d"
      },
      "execution_count": 6,
      "outputs": [
        {
          "output_type": "execute_result",
          "data": {
            "text/plain": [
              "float"
            ]
          },
          "metadata": {},
          "execution_count": 6
        }
      ]
    },
    {
      "cell_type": "code",
      "source": [
        "type('sumit')"
      ],
      "metadata": {
        "colab": {
          "base_uri": "https://localhost:8080/"
        },
        "id": "8VRGJNhB7IUt",
        "outputId": "383e93e2-1e7a-4146-ff10-839f33881cf4"
      },
      "execution_count": 7,
      "outputs": [
        {
          "output_type": "execute_result",
          "data": {
            "text/plain": [
              "str"
            ]
          },
          "metadata": {},
          "execution_count": 7
        }
      ]
    },
    {
      "cell_type": "code",
      "source": [
        "type(5+3j)"
      ],
      "metadata": {
        "colab": {
          "base_uri": "https://localhost:8080/"
        },
        "id": "lRGIyRSO7LO9",
        "outputId": "aeead21a-fed0-4eb3-f035-2f1ec859b82b"
      },
      "execution_count": 18,
      "outputs": [
        {
          "output_type": "execute_result",
          "data": {
            "text/plain": [
              "complex"
            ]
          },
          "metadata": {},
          "execution_count": 18
        }
      ]
    },
    {
      "cell_type": "code",
      "source": [
        "type(True)"
      ],
      "metadata": {
        "colab": {
          "base_uri": "https://localhost:8080/"
        },
        "id": "tnknUtsk_mN6",
        "outputId": "61ea54d4-94cf-4bd3-838d-ef6f84318996"
      },
      "execution_count": 19,
      "outputs": [
        {
          "output_type": "execute_result",
          "data": {
            "text/plain": [
              "bool"
            ]
          },
          "metadata": {},
          "execution_count": 19
        }
      ]
    },
    {
      "cell_type": "code",
      "source": [
        "#changing the data type in python\n",
        "#int to float\n",
        "num=5\n",
        "print(float(num))"
      ],
      "metadata": {
        "colab": {
          "base_uri": "https://localhost:8080/"
        },
        "id": "FoeXFg4a9BV4",
        "outputId": "4e81a8d4-72bf-44e3-bc73-b823fcae246a"
      },
      "execution_count": null,
      "outputs": [
        {
          "output_type": "stream",
          "name": "stdout",
          "text": [
            "5.0\n"
          ]
        }
      ]
    },
    {
      "cell_type": "code",
      "source": [
        "#float to num\n",
        "num=5.4\n",
        "print(int(num))"
      ],
      "metadata": {
        "colab": {
          "base_uri": "https://localhost:8080/"
        },
        "id": "zSh9q2lY-lJ-",
        "outputId": "98741bc0-2598-4b48-c526-90136cf7b55d"
      },
      "execution_count": null,
      "outputs": [
        {
          "output_type": "stream",
          "name": "stdout",
          "text": [
            "5\n"
          ]
        }
      ]
    },
    {
      "cell_type": "code",
      "source": [
        "a=7<3\n",
        "print(a)\n",
        "type(a)"
      ],
      "metadata": {
        "colab": {
          "base_uri": "https://localhost:8080/"
        },
        "id": "Ddh2ahAtAzUR",
        "outputId": "93a7ec0a-2ac6-4714-fd46-c5e9f52b609f"
      },
      "execution_count": 20,
      "outputs": [
        {
          "output_type": "stream",
          "name": "stdout",
          "text": [
            "False\n"
          ]
        },
        {
          "output_type": "execute_result",
          "data": {
            "text/plain": [
              "bool"
            ]
          },
          "metadata": {},
          "execution_count": 20
        }
      ]
    },
    {
      "cell_type": "code",
      "source": [
        "print(\"Hello\"*5)"
      ],
      "metadata": {
        "colab": {
          "base_uri": "https://localhost:8080/"
        },
        "id": "63wk9EeFBKTj",
        "outputId": "0b2213d6-debd-400b-9583-cf89907d381d"
      },
      "execution_count": 21,
      "outputs": [
        {
          "output_type": "stream",
          "name": "stdout",
          "text": [
            "HelloHelloHelloHelloHello\n"
          ]
        }
      ]
    },
    {
      "cell_type": "markdown",
      "source": [
        "Slicing"
      ],
      "metadata": {
        "id": "vZkL2_DUBg8C"
      }
    },
    {
      "cell_type": "code",
      "source": [
        "my_string=\"Sumit\"\n",
        "print(my_string[1:3]) #it print from index 1 to 3"
      ],
      "metadata": {
        "colab": {
          "base_uri": "https://localhost:8080/"
        },
        "id": "KROls9WQBiUl",
        "outputId": "8a42e19a-30f7-44fe-f151-c4dbf64cbc82"
      },
      "execution_count": 22,
      "outputs": [
        {
          "output_type": "stream",
          "name": "stdout",
          "text": [
            "um\n"
          ]
        }
      ]
    },
    {
      "cell_type": "code",
      "source": [
        "#step\n",
        "print(my_string[0:4:2]) # it print by taking 2 step from index 0 to 4"
      ],
      "metadata": {
        "colab": {
          "base_uri": "https://localhost:8080/"
        },
        "id": "gygrgpw7CHQS",
        "outputId": "644f7983-60bc-4356-b7e8-eff07c8d2eac"
      },
      "execution_count": 23,
      "outputs": [
        {
          "output_type": "stream",
          "name": "stdout",
          "text": [
            "Sm\n"
          ]
        }
      ]
    },
    {
      "cell_type": "code",
      "source": [
        "#Concatenation of string\n",
        "print(\"Machine Learning \" +\"Project\")"
      ],
      "metadata": {
        "colab": {
          "base_uri": "https://localhost:8080/"
        },
        "id": "BFZFwh4p5UNB",
        "outputId": "a99ab59d-e27d-4b0f-c962-028e752afc1d"
      },
      "execution_count": null,
      "outputs": [
        {
          "output_type": "stream",
          "name": "stdout",
          "text": [
            "Machine Learning Project\n"
          ]
        }
      ]
    },
    {
      "cell_type": "markdown",
      "source": [
        "#Constants and Variables"
      ],
      "metadata": {
        "id": "YgdNgVoV7XvX"
      }
    },
    {
      "cell_type": "markdown",
      "source": [
        "Variable should be single name attach bu underscore"
      ],
      "metadata": {
        "id": "A9kEf5Nj7mY7"
      }
    },
    {
      "cell_type": "code",
      "source": [
        "marvel_super_hero=\"Sumit\"\n",
        "print(marvel_super_hero)"
      ],
      "metadata": {
        "colab": {
          "base_uri": "https://localhost:8080/"
        },
        "id": "NRHY5fiP7bF2",
        "outputId": "0ac37cf7-d250-4532-e5ea-1f99be1ea4fc"
      },
      "execution_count": 8,
      "outputs": [
        {
          "output_type": "stream",
          "name": "stdout",
          "text": [
            "Sumit\n"
          ]
        }
      ]
    },
    {
      "cell_type": "code",
      "source": [
        "marvel_super_hero=\"kuttaa\"\n",
        "print(marvel_super_hero)"
      ],
      "metadata": {
        "colab": {
          "base_uri": "https://localhost:8080/"
        },
        "id": "mQpIZ6Ie73Gd",
        "outputId": "fba44da0-b716-4684-9837-979a50e746bf"
      },
      "execution_count": 9,
      "outputs": [
        {
          "output_type": "stream",
          "name": "stdout",
          "text": [
            "kuttaa\n"
          ]
        }
      ]
    },
    {
      "cell_type": "code",
      "source": [
        "hero1,hero2,hero3=\"su\",\"pu\",\"do\"\n",
        "print(hero1)\n",
        "print(hero2)\n",
        "print(hero3)\n"
      ],
      "metadata": {
        "colab": {
          "base_uri": "https://localhost:8080/"
        },
        "id": "GzFvU6GR79e2",
        "outputId": "36a39a55-0b6b-42f7-d4e6-3ee983424537"
      },
      "execution_count": 10,
      "outputs": [
        {
          "output_type": "stream",
          "name": "stdout",
          "text": [
            "su\n",
            "pu\n",
            "do\n"
          ]
        }
      ]
    },
    {
      "cell_type": "code",
      "source": [
        "x=y=z=23\n",
        "print(x)\n",
        "print(y)\n",
        "print(z)\n"
      ],
      "metadata": {
        "colab": {
          "base_uri": "https://localhost:8080/"
        },
        "id": "4ajVD0TC8Q7C",
        "outputId": "94150e71-278a-478e-8616-487623afefb0"
      },
      "execution_count": 11,
      "outputs": [
        {
          "output_type": "stream",
          "name": "stdout",
          "text": [
            "23\n",
            "23\n",
            "23\n"
          ]
        }
      ]
    },
    {
      "cell_type": "code",
      "source": [],
      "metadata": {
        "id": "Ls2XAFXS8eEA"
      },
      "execution_count": null,
      "outputs": []
    },
    {
      "cell_type": "markdown",
      "source": [
        "#input Function"
      ],
      "metadata": {
        "id": "DSHlVPll8oWw"
      }
    },
    {
      "cell_type": "code",
      "source": [
        "# Here input number are  treated as string so we apply int to treat as integer\n",
        "number_1=int(input(\"enter first number: \"))\n",
        "number_2=int(input(\"enter second number: \"))\n",
        "sum=number_1+number_2\n",
        "print(sum)"
      ],
      "metadata": {
        "colab": {
          "base_uri": "https://localhost:8080/"
        },
        "id": "hw2wztPQ8q2I",
        "outputId": "ea7dd1b6-6d8c-4b24-c347-74f86c953909"
      },
      "execution_count": 15,
      "outputs": [
        {
          "output_type": "stream",
          "name": "stdout",
          "text": [
            "enter first number: 1\n",
            "enter second number: 2\n",
            "3\n"
          ]
        }
      ]
    },
    {
      "cell_type": "markdown",
      "source": [
        "#Types of Objects\n",
        "\n",
        "1.   Immutable objects:whose value cannot  be changed once it created\n",
        "2.   Mutable objects:whose value can be changed once it created\n",
        "\n",
        "IMMUTABLE OBJECTS\n",
        "\n",
        "\n",
        "1.   int 2.bool 3.float 4.string 5.tuple\n",
        "\n",
        "\n",
        "MUTABLE OBJECTS\n",
        "\n",
        "\n",
        "1.   List 2. Set 3. Dictionary\n",
        "\n",
        "\n",
        "\n",
        "\n",
        "\n"
      ],
      "metadata": {
        "id": "6NESaZoyC1hK"
      }
    },
    {
      "cell_type": "markdown",
      "source": [
        "List"
      ],
      "metadata": {
        "id": "lAouoVKJD4xW"
      }
    },
    {
      "cell_type": "code",
      "source": [
        "#List should be included in square brackets and it can store multiple values\n",
        "my_list=[1,2,3,4]\n",
        "print(my_list)\n",
        "type(my_list)\n"
      ],
      "metadata": {
        "colab": {
          "base_uri": "https://localhost:8080/"
        },
        "id": "CTqo1gwiD6Kf",
        "outputId": "b1339374-7284-4e19-9732-2be5f22ed47f"
      },
      "execution_count": 24,
      "outputs": [
        {
          "output_type": "stream",
          "name": "stdout",
          "text": [
            "[1, 2, 3, 4]\n"
          ]
        },
        {
          "output_type": "execute_result",
          "data": {
            "text/plain": [
              "list"
            ]
          },
          "metadata": {},
          "execution_count": 24
        }
      ]
    },
    {
      "cell_type": "code",
      "source": [
        "#List can have multiple datatype and mutable\n",
        "my_list=[1,2,\"su\",True]\n",
        "print(my_list)\n",
        "type(my_list)\n"
      ],
      "metadata": {
        "colab": {
          "base_uri": "https://localhost:8080/"
        },
        "id": "LdRby-GdEWUL",
        "outputId": "f455e627-1c0a-435b-99b1-b1c8874cb727"
      },
      "execution_count": 25,
      "outputs": [
        {
          "output_type": "stream",
          "name": "stdout",
          "text": [
            "[1, 2, 'su', True]\n"
          ]
        },
        {
          "output_type": "execute_result",
          "data": {
            "text/plain": [
              "list"
            ]
          },
          "metadata": {},
          "execution_count": 25
        }
      ]
    },
    {
      "cell_type": "markdown",
      "source": [
        "Lists are Mutable"
      ],
      "metadata": {
        "id": "uQKvKY_yEs5o"
      }
    },
    {
      "cell_type": "code",
      "source": [
        "#Add elements\n",
        "my_list=[1,2,\"su\",True]\n",
        "my_list.append(3)\n",
        "print(my_list)\n",
        "print(my_list[0])\n"
      ],
      "metadata": {
        "colab": {
          "base_uri": "https://localhost:8080/"
        },
        "id": "Ljy10ZxyEys9",
        "outputId": "df913726-ffa4-4c00-af50-4d684ee5f2fa"
      },
      "execution_count": 27,
      "outputs": [
        {
          "output_type": "stream",
          "name": "stdout",
          "text": [
            "[1, 2, 'su', True, 3]\n",
            "1\n"
          ]
        }
      ]
    },
    {
      "cell_type": "code",
      "source": [
        "#list allow duplicate values\n",
        "list_1=[1,1,1,1,1]\n",
        "print(list_1)\n",
        "#Check the size of list\n",
        "print(len(list_1))"
      ],
      "metadata": {
        "colab": {
          "base_uri": "https://localhost:8080/"
        },
        "id": "JkBQNfZaER_E",
        "outputId": "5d2ea54a-6a51-4d93-f829-102bc17a62a1"
      },
      "execution_count": 29,
      "outputs": [
        {
          "output_type": "stream",
          "name": "stdout",
          "text": [
            "[1, 1, 1, 1, 1]\n",
            "5\n"
          ]
        }
      ]
    },
    {
      "cell_type": "code",
      "source": [
        "#delete item in list\n",
        "list_2=[1,2,3,4]\n",
        "del list_2[2]\n",
        "print(list_2)"
      ],
      "metadata": {
        "colab": {
          "base_uri": "https://localhost:8080/"
        },
        "id": "hvf8zBqWGtwn",
        "outputId": "32b0e61c-fea1-4a29-954b-bede4e0049a6"
      },
      "execution_count": 30,
      "outputs": [
        {
          "output_type": "stream",
          "name": "stdout",
          "text": [
            "[1, 2, 4]\n"
          ]
        }
      ]
    },
    {
      "cell_type": "code",
      "source": [
        "#Join  two list\n",
        "list_1=[1,2]\n",
        "list_2=[3,4]\n",
        "print(list_1+list_2)"
      ],
      "metadata": {
        "colab": {
          "base_uri": "https://localhost:8080/"
        },
        "id": "wsSzxkeGHS81",
        "outputId": "ff705380-931b-4458-ee80-ddfe7b254b5a"
      },
      "execution_count": 31,
      "outputs": [
        {
          "output_type": "stream",
          "name": "stdout",
          "text": [
            "[1, 2, 3, 4]\n"
          ]
        }
      ]
    },
    {
      "cell_type": "markdown",
      "source": [
        "Tuple :- Immutable datatype"
      ],
      "metadata": {
        "id": "j5GwhpdDHjPx"
      }
    },
    {
      "cell_type": "code",
      "source": [
        "#It allow multiple datatype in single tuple\n",
        "tuple_1=(1,2,3,\"st\",True)\n",
        "print(tuple_1)\n",
        "type(tuple_1)"
      ],
      "metadata": {
        "colab": {
          "base_uri": "https://localhost:8080/"
        },
        "id": "rgBDVnqxHe-u",
        "outputId": "ec894c4b-d116-4e99-8173-03514c3470d7"
      },
      "execution_count": 33,
      "outputs": [
        {
          "output_type": "stream",
          "name": "stdout",
          "text": [
            "(1, 2, 3, 'st', True)\n"
          ]
        },
        {
          "output_type": "execute_result",
          "data": {
            "text/plain": [
              "tuple"
            ]
          },
          "metadata": {},
          "execution_count": 33
        }
      ]
    },
    {
      "cell_type": "code",
      "source": [
        "#Converting List to tuple\n",
        "list_1=[1,2,3]\n",
        "my_tuple=tuple(list_1)\n",
        "print(my_tuple)"
      ],
      "metadata": {
        "colab": {
          "base_uri": "https://localhost:8080/"
        },
        "id": "t6dmh0lfHzBf",
        "outputId": "0a206a48-88c4-4341-c509-98eecfe777bf"
      },
      "execution_count": 34,
      "outputs": [
        {
          "output_type": "stream",
          "name": "stdout",
          "text": [
            "(1, 2, 3)\n"
          ]
        }
      ]
    },
    {
      "cell_type": "code",
      "source": [
        "print(my_tuple[0])"
      ],
      "metadata": {
        "colab": {
          "base_uri": "https://localhost:8080/"
        },
        "id": "mUL4SDwPIX-k",
        "outputId": "7e58a9f8-f173-44e8-a84c-faa8cd62b144"
      },
      "execution_count": 35,
      "outputs": [
        {
          "output_type": "stream",
          "name": "stdout",
          "text": [
            "1\n"
          ]
        }
      ]
    },
    {
      "cell_type": "markdown",
      "source": [
        "Tuples are immutable means unchangeable"
      ],
      "metadata": {
        "id": "rrcwSEboIkW6"
      }
    },
    {
      "cell_type": "code",
      "source": [
        "my_tuple.append(6)"
      ],
      "metadata": {
        "colab": {
          "base_uri": "https://localhost:8080/",
          "height": 141
        },
        "id": "x7WrbY6yIqRS",
        "outputId": "15612666-ee32-4866-f932-3e558f44a38c"
      },
      "execution_count": 36,
      "outputs": [
        {
          "output_type": "error",
          "ename": "AttributeError",
          "evalue": "'tuple' object has no attribute 'append'",
          "traceback": [
            "\u001b[0;31m---------------------------------------------------------------------------\u001b[0m",
            "\u001b[0;31mAttributeError\u001b[0m                            Traceback (most recent call last)",
            "\u001b[0;32m<ipython-input-36-4a40ddf90b2d>\u001b[0m in \u001b[0;36m<cell line: 1>\u001b[0;34m()\u001b[0m\n\u001b[0;32m----> 1\u001b[0;31m \u001b[0mmy_tuple\u001b[0m\u001b[0;34m.\u001b[0m\u001b[0mappend\u001b[0m\u001b[0;34m(\u001b[0m\u001b[0;36m6\u001b[0m\u001b[0;34m)\u001b[0m\u001b[0;34m\u001b[0m\u001b[0;34m\u001b[0m\u001b[0m\n\u001b[0m",
            "\u001b[0;31mAttributeError\u001b[0m: 'tuple' object has no attribute 'append'"
          ]
        }
      ]
    },
    {
      "cell_type": "code",
      "source": [
        "print(len(my_tuple))"
      ],
      "metadata": {
        "colab": {
          "base_uri": "https://localhost:8080/"
        },
        "id": "aPygTwQBIfWs",
        "outputId": "61f90cdb-fbcb-4066-eaec-13e33729574e"
      },
      "execution_count": 37,
      "outputs": [
        {
          "output_type": "stream",
          "name": "stdout",
          "text": [
            "3\n"
          ]
        }
      ]
    },
    {
      "cell_type": "markdown",
      "source": [
        "Set"
      ],
      "metadata": {
        "id": "Q9ZDPqcJI230"
      }
    },
    {
      "cell_type": "code",
      "source": [
        "#set->Curly bracket and it allow multiple datatype\n",
        "my_set={1,2,3,4.5,5,\"su\",True}\n",
        "print(my_set)\n",
        "type(my_set)"
      ],
      "metadata": {
        "colab": {
          "base_uri": "https://localhost:8080/"
        },
        "id": "U0QUkRI8I0L5",
        "outputId": "e09ac0a5-d3b3-4701-edd0-d28984b83417"
      },
      "execution_count": 41,
      "outputs": [
        {
          "output_type": "stream",
          "name": "stdout",
          "text": [
            "{1, 2, 3, 4.5, 5, 'su'}\n"
          ]
        },
        {
          "output_type": "execute_result",
          "data": {
            "text/plain": [
              "set"
            ]
          },
          "metadata": {},
          "execution_count": 41
        }
      ]
    },
    {
      "cell_type": "code",
      "source": [
        "#Set not suport indexing\n",
        "print(my_set[0])"
      ],
      "metadata": {
        "colab": {
          "base_uri": "https://localhost:8080/",
          "height": 159
        },
        "id": "maPn-Ae8JHd7",
        "outputId": "c71d4000-85f0-4f72-dacf-cbe088f65968"
      },
      "execution_count": 39,
      "outputs": [
        {
          "output_type": "error",
          "ename": "TypeError",
          "evalue": "'set' object is not subscriptable",
          "traceback": [
            "\u001b[0;31m---------------------------------------------------------------------------\u001b[0m",
            "\u001b[0;31mTypeError\u001b[0m                                 Traceback (most recent call last)",
            "\u001b[0;32m<ipython-input-39-2de2634e0669>\u001b[0m in \u001b[0;36m<cell line: 2>\u001b[0;34m()\u001b[0m\n\u001b[1;32m      1\u001b[0m \u001b[0;31m#Set not suport indexing\u001b[0m\u001b[0;34m\u001b[0m\u001b[0;34m\u001b[0m\u001b[0m\n\u001b[0;32m----> 2\u001b[0;31m \u001b[0mprint\u001b[0m\u001b[0;34m(\u001b[0m\u001b[0mmy_set\u001b[0m\u001b[0;34m[\u001b[0m\u001b[0;36m0\u001b[0m\u001b[0;34m]\u001b[0m\u001b[0;34m)\u001b[0m\u001b[0;34m\u001b[0m\u001b[0;34m\u001b[0m\u001b[0m\n\u001b[0m",
            "\u001b[0;31mTypeError\u001b[0m: 'set' object is not subscriptable"
          ]
        }
      ]
    },
    {
      "cell_type": "code",
      "source": [
        "#convert list to set\n",
        "list_5=[1,2,3,4.5,5]\n",
        "print(set(list_5))"
      ],
      "metadata": {
        "colab": {
          "base_uri": "https://localhost:8080/"
        },
        "id": "w9D3pHCLJS8F",
        "outputId": "32695123-19ab-441f-b6fe-6a73e4bc9d3c"
      },
      "execution_count": 40,
      "outputs": [
        {
          "output_type": "stream",
          "name": "stdout",
          "text": [
            "{1, 2, 3, 4.5, 5}\n"
          ]
        }
      ]
    },
    {
      "cell_type": "code",
      "source": [
        "#set does not allow duplicate value\n",
        "set_1={1,1,2,3,4}\n",
        "print(set_1)"
      ],
      "metadata": {
        "colab": {
          "base_uri": "https://localhost:8080/"
        },
        "id": "2HMb5X2eJmA3",
        "outputId": "49c92b96-1e6b-4ad8-e828-81013c677af9"
      },
      "execution_count": 42,
      "outputs": [
        {
          "output_type": "stream",
          "name": "stdout",
          "text": [
            "{1, 2, 3, 4}\n"
          ]
        }
      ]
    },
    {
      "cell_type": "markdown",
      "source": [
        "Dictionary -> key : value pair"
      ],
      "metadata": {
        "id": "j8Gi--XWKD3R"
      }
    },
    {
      "cell_type": "code",
      "source": [
        "my_dict={\"name\":'sumit',\"age\":90}\n",
        "print(my_dict)\n",
        "print(my_dict[\"name\"])\n",
        "print(my_dict[\"age\"])\n",
        "type(my_dict)"
      ],
      "metadata": {
        "colab": {
          "base_uri": "https://localhost:8080/"
        },
        "id": "j_gO12taKAio",
        "outputId": "ec4b3d49-52e4-4ef6-9de0-3d80a5b126bc"
      },
      "execution_count": 44,
      "outputs": [
        {
          "output_type": "stream",
          "name": "stdout",
          "text": [
            "{'name': 'sumit', 'age': 90}\n",
            "sumit\n",
            "90\n"
          ]
        },
        {
          "output_type": "execute_result",
          "data": {
            "text/plain": [
              "dict"
            ]
          },
          "metadata": {},
          "execution_count": 44
        }
      ]
    },
    {
      "cell_type": "code",
      "source": [
        "#Dictionary does not allow duplicate\n",
        "my_dict={\"name\":'sumit',\"age\":90,\"name\":'sumit',\"age\":90}\n",
        "print(my_dict)"
      ],
      "metadata": {
        "colab": {
          "base_uri": "https://localhost:8080/"
        },
        "id": "a_-yn2JQKerN",
        "outputId": "b11dbe35-b220-45e4-be2f-075b0ee74aa2"
      },
      "execution_count": 45,
      "outputs": [
        {
          "output_type": "stream",
          "name": "stdout",
          "text": [
            "{'name': 'sumit', 'age': 90}\n"
          ]
        }
      ]
    },
    {
      "cell_type": "code",
      "source": [],
      "metadata": {
        "id": "5oSW_RXwKpRa"
      },
      "execution_count": null,
      "outputs": []
    }
  ]
}