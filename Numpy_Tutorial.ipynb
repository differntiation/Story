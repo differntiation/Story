{
  "nbformat": 4,
  "nbformat_minor": 0,
  "metadata": {
    "colab": {
      "provenance": [],
      "authorship_tag": "ABX9TyOJOAVFOochhpi3XLLWT9Sy",
      "include_colab_link": true
    },
    "kernelspec": {
      "name": "python3",
      "display_name": "Python 3"
    },
    "language_info": {
      "name": "python"
    }
  },
  "cells": [
    {
      "cell_type": "markdown",
      "metadata": {
        "id": "view-in-github",
        "colab_type": "text"
      },
      "source": [
        "<a href=\"https://colab.research.google.com/github/differntiation/Story/blob/master/Numpy_Tutorial.ipynb\" target=\"_parent\"><img src=\"https://colab.research.google.com/assets/colab-badge.svg\" alt=\"Open In Colab\"/></a>"
      ]
    },
    {
      "cell_type": "markdown",
      "source": [
        "Numpy->Numerical Python\n",
        "\n",
        "Advantage of Numpy Arrays\n",
        "1.   Allows several MAthematical operations\n",
        "2.   faster opeartions\n",
        "\n"
      ],
      "metadata": {
        "id": "TXPrAdlOQKFm"
      }
    },
    {
      "cell_type": "code",
      "execution_count": 3,
      "metadata": {
        "id": "R8ejSjxDQBsg"
      },
      "outputs": [],
      "source": [
        "import numpy as np\n"
      ]
    },
    {
      "cell_type": "markdown",
      "source": [
        "List vs Numpy-Time Taken"
      ],
      "metadata": {
        "id": "OzIjsmcqrJnJ"
      }
    },
    {
      "cell_type": "code",
      "source": [
        "from time import process_time"
      ],
      "metadata": {
        "id": "NiWFQTUJrYTi"
      },
      "execution_count": 2,
      "outputs": []
    },
    {
      "cell_type": "markdown",
      "source": [
        "Time taken By List"
      ],
      "metadata": {
        "id": "88GHhbAlrkV_"
      }
    },
    {
      "cell_type": "code",
      "source": [
        "python_list=[i for i in range(10000)]\n",
        "start_time=process_time()\n",
        "python_list=[i+5 for i in python_list]\n",
        "end_time=process_time()\n",
        "print(end_time-start_time)"
      ],
      "metadata": {
        "colab": {
          "base_uri": "https://localhost:8080/"
        },
        "id": "sPllfweurq1H",
        "outputId": "4f01141d-d08b-4f7b-b4a7-3dc3abd167b6"
      },
      "execution_count": 4,
      "outputs": [
        {
          "output_type": "stream",
          "name": "stdout",
          "text": [
            "0.001544237999999698\n"
          ]
        }
      ]
    },
    {
      "cell_type": "code",
      "source": [
        "np_array=np.array([i for i in range(100000)])\n",
        "start_time=process_time()\n",
        "np_array+=5\n",
        "end_time=process_time()\n",
        "print(end_time-start_time)\n"
      ],
      "metadata": {
        "colab": {
          "base_uri": "https://localhost:8080/"
        },
        "id": "_QFHKav0tDW5",
        "outputId": "5911cf85-da33-4fba-87e9-78eb6ea796c1"
      },
      "execution_count": 5,
      "outputs": [
        {
          "output_type": "stream",
          "name": "stdout",
          "text": [
            "0.0003822690000001572\n"
          ]
        }
      ]
    },
    {
      "cell_type": "markdown",
      "source": [
        "Numpy Arrays:- There is no comma between element and nd array means n-dimensional array"
      ],
      "metadata": {
        "id": "y2XbqAAMwO24"
      }
    },
    {
      "cell_type": "code",
      "source": [
        "#list\n",
        "list1=[1,2,3,4,5]\n",
        "print(list1)\n",
        "type(list1)"
      ],
      "metadata": {
        "colab": {
          "base_uri": "https://localhost:8080/"
        },
        "id": "YSTUcq6WuAos",
        "outputId": "1418c3fa-df18-40a4-e557-a0b01cd55b95"
      },
      "execution_count": 6,
      "outputs": [
        {
          "output_type": "stream",
          "name": "stdout",
          "text": [
            "[1, 2, 3, 4, 5]\n"
          ]
        },
        {
          "output_type": "execute_result",
          "data": {
            "text/plain": [
              "list"
            ]
          },
          "metadata": {},
          "execution_count": 6
        }
      ]
    },
    {
      "cell_type": "code",
      "source": [
        "#1-d array\n",
        "np_array=np.array([1,2,3,4,5])\n",
        "print(np_array)\n",
        "type(np_array)\n",
        "np_array.shape   # it gives dimension of array(row,col)"
      ],
      "metadata": {
        "colab": {
          "base_uri": "https://localhost:8080/"
        },
        "id": "Xdm-wjRdwhsY",
        "outputId": "23daac7b-db06-416f-a0ca-4d3d7781f8db"
      },
      "execution_count": 13,
      "outputs": [
        {
          "output_type": "stream",
          "name": "stdout",
          "text": [
            "[1 2 3 4 5]\n"
          ]
        },
        {
          "output_type": "execute_result",
          "data": {
            "text/plain": [
              "(5,)"
            ]
          },
          "metadata": {},
          "execution_count": 13
        }
      ]
    },
    {
      "cell_type": "code",
      "source": [
        "#Creating an 2-d array\n",
        "b=np.array([(1,2,3),(4,5,6)])\n",
        "print(b)\n",
        "type(b)\n",
        "b.shape     # it gives dimension of array(row,col)\n"
      ],
      "metadata": {
        "colab": {
          "base_uri": "https://localhost:8080/"
        },
        "id": "_cfDmayrwvDR",
        "outputId": "8e4cb3ad-9804-457a-9bad-ee86ce17e51a"
      },
      "execution_count": 12,
      "outputs": [
        {
          "output_type": "stream",
          "name": "stdout",
          "text": [
            "[[1 2 3]\n",
            " [4 5 6]]\n"
          ]
        },
        {
          "output_type": "execute_result",
          "data": {
            "text/plain": [
              "(2, 3)"
            ]
          },
          "metadata": {},
          "execution_count": 12
        }
      ]
    },
    {
      "cell_type": "code",
      "source": [
        "#if element is floating point\n",
        "c=np.array([(1,2,3),(3,4,5)],dtype=float)\n",
        "print(c)"
      ],
      "metadata": {
        "colab": {
          "base_uri": "https://localhost:8080/"
        },
        "id": "0d35EIhoxxsG",
        "outputId": "96265ed4-9784-4d8c-c217-0aa532f3c7bb"
      },
      "execution_count": 14,
      "outputs": [
        {
          "output_type": "stream",
          "name": "stdout",
          "text": [
            "[[1. 2. 3.]\n",
            " [3. 4. 5.]]\n"
          ]
        }
      ]
    },
    {
      "cell_type": "markdown",
      "source": [
        "Initial Placeholder in numpy arrays"
      ],
      "metadata": {
        "id": "Vwr1yGC4z97F"
      }
    },
    {
      "cell_type": "code",
      "source": [
        "#create numpy array of zeros\n",
        "x=np.zeros((4,5))\n",
        "print(x)"
      ],
      "metadata": {
        "colab": {
          "base_uri": "https://localhost:8080/"
        },
        "id": "6-FK9ridz64D",
        "outputId": "b14f0743-1e18-489c-f111-63d63f4d4c61"
      },
      "execution_count": 15,
      "outputs": [
        {
          "output_type": "stream",
          "name": "stdout",
          "text": [
            "[[0. 0. 0. 0. 0.]\n",
            " [0. 0. 0. 0. 0.]\n",
            " [0. 0. 0. 0. 0.]\n",
            " [0. 0. 0. 0. 0.]]\n"
          ]
        }
      ]
    },
    {
      "cell_type": "code",
      "source": [
        "#create numpy array of ones\n",
        "y=np.ones((3,3))\n",
        "print(y)"
      ],
      "metadata": {
        "colab": {
          "base_uri": "https://localhost:8080/"
        },
        "id": "5GsNyMKW0fHV",
        "outputId": "ec83c5dc-7ec7-42b1-ab0d-5d78bd624d4a"
      },
      "execution_count": 16,
      "outputs": [
        {
          "output_type": "stream",
          "name": "stdout",
          "text": [
            "[[1. 1. 1.]\n",
            " [1. 1. 1.]\n",
            " [1. 1. 1.]]\n"
          ]
        }
      ]
    },
    {
      "cell_type": "code",
      "source": [
        "#array of particular value\n",
        "z=np.full((5,4),5)  # here matrix dimension is (5,4) with element 5\n",
        "print(z)"
      ],
      "metadata": {
        "colab": {
          "base_uri": "https://localhost:8080/"
        },
        "id": "SgvbTfYF0w8H",
        "outputId": "b332b22b-9521-4e15-a1b5-9bb1c721ec35"
      },
      "execution_count": 17,
      "outputs": [
        {
          "output_type": "stream",
          "name": "stdout",
          "text": [
            "[[5 5 5 5]\n",
            " [5 5 5 5]\n",
            " [5 5 5 5]\n",
            " [5 5 5 5]\n",
            " [5 5 5 5]]\n"
          ]
        }
      ]
    },
    {
      "cell_type": "code",
      "source": [
        "#crete an identity matrix :- diagonal value is 1\n",
        "a=np.eye(4)\n",
        "print(a)\n"
      ],
      "metadata": {
        "colab": {
          "base_uri": "https://localhost:8080/"
        },
        "id": "CUOJ7evl1IMl",
        "outputId": "7775ef90-52e6-472e-a0c6-afad0577165e"
      },
      "execution_count": 18,
      "outputs": [
        {
          "output_type": "stream",
          "name": "stdout",
          "text": [
            "[[1. 0. 0. 0.]\n",
            " [0. 1. 0. 0.]\n",
            " [0. 0. 1. 0.]\n",
            " [0. 0. 0. 1.]]\n"
          ]
        }
      ]
    },
    {
      "cell_type": "code",
      "source": [
        "#create numpy array with random value\n",
        "n=np.random.random((3,4))   #here we random values between 0 and 1\n",
        "print(n)"
      ],
      "metadata": {
        "colab": {
          "base_uri": "https://localhost:8080/"
        },
        "id": "_07dtngQ1ch3",
        "outputId": "cdb9b8be-c07f-4475-adbb-687fd525a70b"
      },
      "execution_count": 19,
      "outputs": [
        {
          "output_type": "stream",
          "name": "stdout",
          "text": [
            "[[0.92782687 0.69856205 0.88449648 0.33440372]\n",
            " [0.70686073 0.13207733 0.84556384 0.24107553]\n",
            " [0.13619569 0.80431845 0.70958065 0.99384608]]\n"
          ]
        }
      ]
    },
    {
      "cell_type": "code",
      "source": [
        "#random integer value array within specifixc range\n",
        "c=np.random.randint(10,100,(3,5))  # HERE  dimension is (3,5) and element between 10 and 100\n",
        "print(c)"
      ],
      "metadata": {
        "colab": {
          "base_uri": "https://localhost:8080/"
        },
        "id": "jZBShsxr173L",
        "outputId": "fba9170b-b8ad-43b4-de77-1c96ba44c8b2"
      },
      "execution_count": 20,
      "outputs": [
        {
          "output_type": "stream",
          "name": "stdout",
          "text": [
            "[[81 23 77 53 68]\n",
            " [35 27 14 73 84]\n",
            " [52 80 98 17 12]]\n"
          ]
        }
      ]
    },
    {
      "cell_type": "code",
      "source": [
        "#Array of eevenly spaced value\n",
        "d=np.linspace(10,30,6) #here it print array which is from 10 to 30 and no of values is  5\n",
        "print(d)"
      ],
      "metadata": {
        "colab": {
          "base_uri": "https://localhost:8080/"
        },
        "id": "9y3-9lwi2lMz",
        "outputId": "c318e9d4-70e3-4bbf-c75b-badc1c350d5e"
      },
      "execution_count": 22,
      "outputs": [
        {
          "output_type": "stream",
          "name": "stdout",
          "text": [
            "[10. 14. 18. 22. 26. 30.]\n"
          ]
        }
      ]
    },
    {
      "cell_type": "code",
      "source": [
        "#array of evenly space value\n",
        "e=np.arange(10,30,6)  #here it print array which is from 10 to 30 and eqully space of 6\n",
        "print(e)\n"
      ],
      "metadata": {
        "colab": {
          "base_uri": "https://localhost:8080/"
        },
        "id": "yelRVMKc3Kvn",
        "outputId": "e7384379-9c18-40ec-e2d1-b1591299cf5d"
      },
      "execution_count": 24,
      "outputs": [
        {
          "output_type": "stream",
          "name": "stdout",
          "text": [
            "[10 16 22 28]\n"
          ]
        }
      ]
    },
    {
      "cell_type": "code",
      "source": [
        "#convert list to numpy array\n",
        "list2=[10,20,20,20,30]\n",
        "np_array=np.asarray(list2)\n",
        "print(np_array)\n",
        "type(np_array)"
      ],
      "metadata": {
        "colab": {
          "base_uri": "https://localhost:8080/"
        },
        "id": "lmKGoAyQ3x6_",
        "outputId": "182768c1-d538-4529-e3b0-f55085f3adf5"
      },
      "execution_count": 25,
      "outputs": [
        {
          "output_type": "stream",
          "name": "stdout",
          "text": [
            "[10 20 20 20 30]\n"
          ]
        },
        {
          "output_type": "execute_result",
          "data": {
            "text/plain": [
              "numpy.ndarray"
            ]
          },
          "metadata": {},
          "execution_count": 25
        }
      ]
    },
    {
      "cell_type": "markdown",
      "source": [
        "Analysing a Numpy Arry"
      ],
      "metadata": {
        "id": "uAHYmUfr4gmN"
      }
    },
    {
      "cell_type": "code",
      "source": [
        "c=np.random.randint(10,90,(5,5))\n",
        "print(c)"
      ],
      "metadata": {
        "colab": {
          "base_uri": "https://localhost:8080/"
        },
        "id": "i9Mrf8jM4jkS",
        "outputId": "1440cfeb-b1c1-4434-8aab-c280a1e9b843"
      },
      "execution_count": 26,
      "outputs": [
        {
          "output_type": "stream",
          "name": "stdout",
          "text": [
            "[[11 54 78 74 83]\n",
            " [31 53 70 72 88]\n",
            " [85 44 73 15 87]\n",
            " [68 79 89 35 39]\n",
            " [73 50 48 49 33]]\n"
          ]
        }
      ]
    },
    {
      "cell_type": "code",
      "source": [
        "#array dimension\n",
        "print(c.shape)"
      ],
      "metadata": {
        "colab": {
          "base_uri": "https://localhost:8080/"
        },
        "id": "HawGbwXg4add",
        "outputId": "339c525f-7662-40a7-fb4e-c9b9fd04aead"
      },
      "execution_count": 27,
      "outputs": [
        {
          "output_type": "stream",
          "name": "stdout",
          "text": [
            "(5, 5)\n"
          ]
        }
      ]
    },
    {
      "cell_type": "code",
      "source": [
        "#number of dimension\n",
        "print(c.ndim)  #here only 2 row and col"
      ],
      "metadata": {
        "colab": {
          "base_uri": "https://localhost:8080/"
        },
        "id": "14bQInkg4_Jb",
        "outputId": "5a6114cc-016b-407e-fdf6-6768a1e797ad"
      },
      "execution_count": 28,
      "outputs": [
        {
          "output_type": "stream",
          "name": "stdout",
          "text": [
            "2\n"
          ]
        }
      ]
    },
    {
      "cell_type": "code",
      "source": [
        "#number of element in an arry\n",
        "print(c.size)"
      ],
      "metadata": {
        "colab": {
          "base_uri": "https://localhost:8080/"
        },
        "id": "c3De_dRl5UWi",
        "outputId": "f8980762-af3c-4889-a7da-61654fc869dd"
      },
      "execution_count": 29,
      "outputs": [
        {
          "output_type": "stream",
          "name": "stdout",
          "text": [
            "25\n"
          ]
        }
      ]
    },
    {
      "cell_type": "code",
      "source": [
        "#checkin the datatype\n",
        "print(c.dtype)"
      ],
      "metadata": {
        "colab": {
          "base_uri": "https://localhost:8080/"
        },
        "id": "STqC0fcU6K6V",
        "outputId": "a1ba4c11-a9b3-49a7-9293-f08f23b36dab"
      },
      "execution_count": 30,
      "outputs": [
        {
          "output_type": "stream",
          "name": "stdout",
          "text": [
            "int64\n"
          ]
        }
      ]
    },
    {
      "cell_type": "markdown",
      "source": [
        "MAthematical operation on numpy array"
      ],
      "metadata": {
        "id": "4y3X89Yc6TDC"
      }
    },
    {
      "cell_type": "code",
      "source": [
        "list1=[1,2,3,4,5]\n",
        "list2=[1,2,3,4,5]\n",
        "print(list1+list2)  #concatenate joins two"
      ],
      "metadata": {
        "colab": {
          "base_uri": "https://localhost:8080/"
        },
        "id": "MV_fxBwp6Q-A",
        "outputId": "ddcbb1db-348b-4f16-9c98-b30a1d8aa9ec"
      },
      "execution_count": 31,
      "outputs": [
        {
          "output_type": "stream",
          "name": "stdout",
          "text": [
            "[1, 2, 3, 4, 5, 1, 2, 3, 4, 5]\n"
          ]
        }
      ]
    },
    {
      "cell_type": "code",
      "source": [
        "a=np.random.randint(0,10,(3,3))\n",
        "b=np.random.randint(0,10,(3,3))\n",
        "print(a)\n",
        "print(b)"
      ],
      "metadata": {
        "colab": {
          "base_uri": "https://localhost:8080/"
        },
        "id": "BvbwUyNL7Aig",
        "outputId": "c46e9642-5538-4b03-eb03-d3afaa02902e"
      },
      "execution_count": 33,
      "outputs": [
        {
          "output_type": "stream",
          "name": "stdout",
          "text": [
            "[[4 0 6]\n",
            " [1 9 5]\n",
            " [7 6 4]]\n",
            "[[6 0 5]\n",
            " [1 1 7]\n",
            " [3 2 9]]\n"
          ]
        }
      ]
    },
    {
      "cell_type": "code",
      "source": [
        "#here adding element wise and not concatenation happen\n",
        "print(a+b)\n",
        "print(a-b)\n",
        "print(a*b)\n",
        "print(a/b)"
      ],
      "metadata": {
        "colab": {
          "base_uri": "https://localhost:8080/"
        },
        "id": "31Vf-kOO7Rpe",
        "outputId": "0adf3887-9f9f-46ac-83fd-73b5e24e63de"
      },
      "execution_count": 36,
      "outputs": [
        {
          "output_type": "stream",
          "name": "stdout",
          "text": [
            "[[10  0 11]\n",
            " [ 2 10 12]\n",
            " [10  8 13]]\n",
            "[[-2  0  1]\n",
            " [ 0  8 -2]\n",
            " [ 4  4 -5]]\n",
            "[[24  0 30]\n",
            " [ 1  9 35]\n",
            " [21 12 36]]\n",
            "[[0.66666667        nan 1.2       ]\n",
            " [1.         9.         0.71428571]\n",
            " [2.33333333 3.         0.44444444]]\n"
          ]
        },
        {
          "output_type": "stream",
          "name": "stderr",
          "text": [
            "<ipython-input-36-860f65d3f93e>:5: RuntimeWarning: invalid value encountered in divide\n",
            "  print(a/b)\n"
          ]
        }
      ]
    },
    {
      "cell_type": "code",
      "source": [
        "#other method to do the same\n",
        "print(np.add(a,b))\n",
        "print(np.subtract(a,b))\n",
        "print(np.multiply(a,b))\n",
        "print(np.divide(a,b))"
      ],
      "metadata": {
        "colab": {
          "base_uri": "https://localhost:8080/"
        },
        "id": "Fsc42vax7nEg",
        "outputId": "097f6f82-e446-4054-a320-5db6bc3a35d1"
      },
      "execution_count": 38,
      "outputs": [
        {
          "output_type": "stream",
          "name": "stdout",
          "text": [
            "[[10  0 11]\n",
            " [ 2 10 12]\n",
            " [10  8 13]]\n",
            "[[-2  0  1]\n",
            " [ 0  8 -2]\n",
            " [ 4  4 -5]]\n",
            "[[24  0 30]\n",
            " [ 1  9 35]\n",
            " [21 12 36]]\n",
            "[[0.66666667        nan 1.2       ]\n",
            " [1.         9.         0.71428571]\n",
            " [2.33333333 3.         0.44444444]]\n"
          ]
        },
        {
          "output_type": "stream",
          "name": "stderr",
          "text": [
            "<ipython-input-38-863c63bc6d1d>:4: RuntimeWarning: invalid value encountered in divide\n",
            "  print(np.divide(a,b))\n"
          ]
        }
      ]
    },
    {
      "cell_type": "markdown",
      "source": [
        "Array Manipulation"
      ],
      "metadata": {
        "id": "aThgNjAr8x1o"
      }
    },
    {
      "cell_type": "code",
      "source": [
        "array=np.random.randint(0,10,(2,3))\n",
        "print(array)\n",
        "print(array.shape)"
      ],
      "metadata": {
        "colab": {
          "base_uri": "https://localhost:8080/"
        },
        "id": "8ABqw5HE8beZ",
        "outputId": "31c200c8-2ddc-4496-facb-202cff4edfa2"
      },
      "execution_count": 39,
      "outputs": [
        {
          "output_type": "stream",
          "name": "stdout",
          "text": [
            "[[1 4 7]\n",
            " [1 8 1]]\n",
            "(2, 3)\n"
          ]
        }
      ]
    },
    {
      "cell_type": "code",
      "source": [
        "#Transpose trans\n",
        "trans=np.transpose(array)\n",
        "print(trans)\n",
        "print(trans.shape)"
      ],
      "metadata": {
        "colab": {
          "base_uri": "https://localhost:8080/"
        },
        "id": "I-i3AZDY9L9i",
        "outputId": "42c0a355-1b62-43a6-e6db-e400ceb4b0f6"
      },
      "execution_count": 40,
      "outputs": [
        {
          "output_type": "stream",
          "name": "stdout",
          "text": [
            "[[1 1]\n",
            " [4 8]\n",
            " [7 1]]\n",
            "(3, 2)\n"
          ]
        }
      ]
    },
    {
      "cell_type": "code",
      "source": [
        "#Method 2\n",
        "trans2=array.T\n",
        "print(trans2)\n",
        "print(trans2.shape)"
      ],
      "metadata": {
        "colab": {
          "base_uri": "https://localhost:8080/"
        },
        "id": "VqvkTXMZ9j7r",
        "outputId": "123501ee-5e94-4e0e-cf30-44314e246c07"
      },
      "execution_count": 41,
      "outputs": [
        {
          "output_type": "stream",
          "name": "stdout",
          "text": [
            "[[1 1]\n",
            " [4 8]\n",
            " [7 1]]\n",
            "(3, 2)\n"
          ]
        }
      ]
    },
    {
      "cell_type": "code",
      "source": [
        "#Reshaping a array\n",
        "b=array.reshape(2,3)\n",
        "print(b)\n",
        "print(b.shape)"
      ],
      "metadata": {
        "colab": {
          "base_uri": "https://localhost:8080/"
        },
        "id": "6y5Ry1nf-PB0",
        "outputId": "dddb81d6-fd06-48b4-b6bc-764ec218b645"
      },
      "execution_count": 44,
      "outputs": [
        {
          "output_type": "stream",
          "name": "stdout",
          "text": [
            "[[1 4 7]\n",
            " [1 8 1]]\n",
            "(2, 3)\n"
          ]
        }
      ]
    },
    {
      "cell_type": "code",
      "source": [],
      "metadata": {
        "id": "_1ZemASa-sUw"
      },
      "execution_count": null,
      "outputs": []
    }
  ]
}